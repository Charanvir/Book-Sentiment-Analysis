{
 "cells": [
  {
   "cell_type": "markdown",
   "id": "d425930b-cf02-4e23-9c41-77910b5796ba",
   "metadata": {},
   "source": [
    "## Loading the Book"
   ]
  },
  {
   "cell_type": "code",
   "execution_count": 89,
   "id": "31432571-69e0-40fc-9bd4-fb676001c564",
   "metadata": {},
   "outputs": [],
   "source": [
    "with open(\"book/miracle_in_the_andes.txt\", \"r\") as file:\n",
    "    book = file.read()\n",
    "import re"
   ]
  },
  {
   "cell_type": "markdown",
   "id": "877adb7b-d834-4a2f-be15-cba88b1d873a",
   "metadata": {},
   "source": [
    "## The most used words (non-articles)"
   ]
  },
  {
   "cell_type": "code",
   "execution_count": 134,
   "id": "f80a94c4-cea2-4afd-8ec7-6ce81a852e7e",
   "metadata": {},
   "outputs": [],
   "source": [
    "pattern = re.compile(\"[a-zA-Z]+\")\n",
    "findings = re.findall(pattern, book.lower())"
   ]
  },
  {
   "cell_type": "code",
   "execution_count": 135,
   "id": "fe174ed3-eef4-4f80-af63-3085eb122615",
   "metadata": {},
   "outputs": [],
   "source": [
    "d = {}\n",
    "for word in findings:\n",
    "    if word in d.keys():\n",
    "        d[word] = d[word] + 1\n",
    "    else:\n",
    "        d[word] = 1"
   ]
  },
  {
   "cell_type": "code",
   "execution_count": 136,
   "id": "ea3ec548-10fd-49b1-b01d-81a2c389a069",
   "metadata": {},
   "outputs": [
    {
     "data": {
      "text/plain": [
       "[(5346, 'the'), (2795, 'and'), (2729, 'i'), (2400, 'to'), (2060, 'of')]"
      ]
     },
     "execution_count": 136,
     "metadata": {},
     "output_type": "execute_result"
    }
   ],
   "source": [
    "d_list = [(value, key) for (key, value) in d.items()]\n",
    "d_list = sorted(d_list, reverse=True)\n",
    "d_list[:5]"
   ]
  },
  {
   "cell_type": "code",
   "execution_count": 137,
   "id": "158c4887-82e9-4ed7-a677-55da926d92ee",
   "metadata": {},
   "outputs": [
    {
     "name": "stdout",
     "output_type": "stream",
     "text": [
      "Requirement already satisfied: nltk in /Library/Frameworks/Python.framework/Versions/3.10/lib/python3.10/site-packages (3.8.1)\n",
      "Requirement already satisfied: tqdm in /Library/Frameworks/Python.framework/Versions/3.10/lib/python3.10/site-packages (from nltk) (4.64.1)\n",
      "Requirement already satisfied: click in /Library/Frameworks/Python.framework/Versions/3.10/lib/python3.10/site-packages (from nltk) (8.1.3)\n",
      "Requirement already satisfied: regex>=2021.8.3 in /Library/Frameworks/Python.framework/Versions/3.10/lib/python3.10/site-packages (from nltk) (2022.10.31)\n",
      "Requirement already satisfied: joblib in /Library/Frameworks/Python.framework/Versions/3.10/lib/python3.10/site-packages (from nltk) (1.2.0)\n",
      "Note: you may need to restart the kernel to use updated packages.\n"
     ]
    }
   ],
   "source": [
    "pip install nltk"
   ]
  },
  {
   "cell_type": "code",
   "execution_count": 145,
   "id": "4d1c806c-83f5-429d-bee1-097e2fe0bbd0",
   "metadata": {},
   "outputs": [],
   "source": [
    "import nltk\n",
    "\n",
    "from nltk.corpus import stopwords\n",
    "\n",
    "english_stopwords = stopwords.words('english')"
   ]
  },
  {
   "cell_type": "code",
   "execution_count": 142,
   "id": "8d2d2273-db6d-4d28-853c-38e12a725d68",
   "metadata": {},
   "outputs": [],
   "source": [
    "filtered = []\n",
    "for count, word in d_list:\n",
    "    if word not in english_stopwords:\n",
    "        filtered.append((word, count))"
   ]
  },
  {
   "cell_type": "code",
   "execution_count": 146,
   "id": "bd92d99d-ea5d-41eb-8819-eab40a3d9046",
   "metadata": {},
   "outputs": [
    {
     "data": {
      "text/plain": [
       "[('would', 575), ('us', 519), ('said', 292), ('roberto', 284), ('could', 252)]"
      ]
     },
     "execution_count": 146,
     "metadata": {},
     "output_type": "execute_result"
    }
   ],
   "source": [
    "filtered[:5]"
   ]
  },
  {
   "cell_type": "markdown",
   "id": "14ff927f-2333-4eb1-a3b1-009abbb35f69",
   "metadata": {},
   "source": [
    "## Sentiment Analysis: What is the most positive and the most negative chapter?"
   ]
  },
  {
   "cell_type": "markdown",
   "id": "fd5089b1-e3da-43ba-b6f1-71b9cd59309f",
   "metadata": {},
   "source": [
    "### Example case for sentiment analysis"
   ]
  },
  {
   "cell_type": "code",
   "execution_count": 180,
   "id": "001b15a1-0a6c-480b-9057-a4c392c885e0",
   "metadata": {},
   "outputs": [
    {
     "name": "stderr",
     "output_type": "stream",
     "text": [
      "[nltk_data] Downloading package vader_lexicon to\n",
      "[nltk_data]     /Users/charanvir/nltk_data...\n",
      "[nltk_data]   Package vader_lexicon is already up-to-date!\n"
     ]
    },
    {
     "data": {
      "text/plain": [
       "True"
      ]
     },
     "execution_count": 180,
     "metadata": {},
     "output_type": "execute_result"
    }
   ],
   "source": [
    "from nltk.sentiment import SentimentIntensityAnalyzer\n",
    "nltk.download(\"vader_lexicon\")"
   ]
  },
  {
   "cell_type": "code",
   "execution_count": 152,
   "id": "5c6d386d-4de2-4e19-8a47-03c514190def",
   "metadata": {},
   "outputs": [],
   "source": [
    "analyzer = SentimentIntensityAnalyzer()"
   ]
  },
  {
   "cell_type": "code",
   "execution_count": 174,
   "id": "5f712175-577e-48d3-894a-3851d9d575ff",
   "metadata": {},
   "outputs": [],
   "source": [
    "scores = analyzer.polarity_scores(\"Hey, look how bad the trees are. I hate them. I really hate them!\")"
   ]
  },
  {
   "cell_type": "code",
   "execution_count": 181,
   "id": "75e0d594-96ed-440d-a0b2-550523d39a74",
   "metadata": {},
   "outputs": [
    {
     "name": "stdout",
     "output_type": "stream",
     "text": [
      "This is a negative text\n"
     ]
    }
   ],
   "source": [
    "if scores[\"pos\"] > scores[\"neg\"]:\n",
    "    print(\"this is a positive text\")\n",
    "else:\n",
    "    print(\"This is a negative text\")"
   ]
  },
  {
   "cell_type": "markdown",
   "id": "8c02dc1c-4ecc-4565-bfb9-9aa8e339905d",
   "metadata": {},
   "source": [
    "### Chapters Sentiment Analysis"
   ]
  },
  {
   "cell_type": "code",
   "execution_count": 193,
   "id": "670cfa2b-0628-41c5-befc-266c8b2c844d",
   "metadata": {},
   "outputs": [],
   "source": [
    "import re\n",
    "pattern = re.compile(\"Chapter [0-9]+\")\n",
    "chapters = re.split(pattern, book)"
   ]
  },
  {
   "cell_type": "code",
   "execution_count": 194,
   "id": "96c4aac4-4f96-4ded-876b-5df6b6b7e466",
   "metadata": {},
   "outputs": [],
   "source": [
    "chapters = chapters[1:]"
   ]
  },
  {
   "cell_type": "code",
   "execution_count": 207,
   "id": "b7463519-6e07-4252-9972-b0e21f2cdb61",
   "metadata": {},
   "outputs": [
    {
     "name": "stdout",
     "output_type": "stream",
     "text": [
      "Chapter 1\n",
      "    Positivty Score:0.16\n",
      "    Negativity Score:0.061\n",
      "    Neutral Score:0.779\n",
      "    Overall Compound Score:1.0\n",
      "Chapter 2\n",
      "    Positivty Score:0.154\n",
      "    Negativity Score:0.12\n",
      "    Neutral Score:0.726\n",
      "    Overall Compound Score:0.9991\n",
      "Chapter 3\n",
      "    Positivty Score:0.105\n",
      "    Negativity Score:0.145\n",
      "    Neutral Score:0.751\n",
      "    Overall Compound Score:-0.9999\n",
      "Chapter 4\n",
      "    Positivty Score:0.138\n",
      "    Negativity Score:0.141\n",
      "    Neutral Score:0.721\n",
      "    Overall Compound Score:-0.9963\n",
      "Chapter 5\n",
      "    Positivty Score:0.141\n",
      "    Negativity Score:0.118\n",
      "    Neutral Score:0.742\n",
      "    Overall Compound Score:0.9997\n",
      "Chapter 6\n",
      "    Positivty Score:0.115\n",
      "    Negativity Score:0.124\n",
      "    Neutral Score:0.761\n",
      "    Overall Compound Score:-0.9979\n",
      "Chapter 7\n",
      "    Positivty Score:0.103\n",
      "    Negativity Score:0.136\n",
      "    Neutral Score:0.761\n",
      "    Overall Compound Score:-0.9999\n",
      "Chapter 8\n",
      "    Positivty Score:0.094\n",
      "    Negativity Score:0.12\n",
      "    Neutral Score:0.786\n",
      "    Overall Compound Score:-0.9998\n",
      "Chapter 9\n",
      "    Positivty Score:0.079\n",
      "    Negativity Score:0.097\n",
      "    Neutral Score:0.824\n",
      "    Overall Compound Score:-0.9996\n",
      "Chapter 10\n",
      "    Positivty Score:0.181\n",
      "    Negativity Score:0.086\n",
      "    Neutral Score:0.733\n",
      "    Overall Compound Score:1.0\n"
     ]
    }
   ],
   "source": [
    "for number, chap in enumerate(chapters):\n",
    "    scores = analyzer.polarity_scores(chap)\n",
    "    print(f\"Chapter {number + 1}\")\n",
    "    print(f\"    Positivty Score:{scores['pos']}\")\n",
    "    print(f\"    Negativity Score:{scores['neg']}\")\n",
    "    print(f\"    Neutral Score:{scores['neu']}\")\n",
    "    print(f\"    Overall Compound Score:{scores['compound']}\")"
   ]
  }
 ],
 "metadata": {
  "kernelspec": {
   "display_name": "Python 3 (ipykernel)",
   "language": "python",
   "name": "python3"
  },
  "language_info": {
   "codemirror_mode": {
    "name": "ipython",
    "version": 3
   },
   "file_extension": ".py",
   "mimetype": "text/x-python",
   "name": "python",
   "nbconvert_exporter": "python",
   "pygments_lexer": "ipython3",
   "version": "3.10.8"
  }
 },
 "nbformat": 4,
 "nbformat_minor": 5
}
